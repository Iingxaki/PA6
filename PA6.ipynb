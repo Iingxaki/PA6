{
 "cells": [
  {
   "cell_type": "code",
   "execution_count": 52,
   "id": "0f88e086",
   "metadata": {},
   "outputs": [
    {
     "name": "stdout",
     "output_type": "stream",
     "text": [
      "Please enter length of first side of triangle: 1\n",
      "Please enter length of second side of triangle: 2\n",
      "Please enter length of third side of triangle: 3\n",
      "area of triangle given is 0.0, perimeter of triangle given is 6.0\n",
      "Do you want to quit? (1 is yes, 0 is no) 1\n"
     ]
    }
   ],
   "source": [
    "import math\n",
    "def triangle(a,b,c):\n",
    "    s= (a+b+c)/2\n",
    "    area= math.sqrt(s*(s-a)*(s-b)*(s-c))\n",
    "    perimeter= s*2\n",
    "    return print(f\"area of triangle given is {area}, perimeter of triangle given is {perimeter}\")\n",
    "exit=0\n",
    "while exit!=1:\n",
    "    side1= float(input(\"Please enter length of first side of triangle: \"))\n",
    "    side2= float(input(\"Please enter length of second side of triangle: \"))\n",
    "    side3= float(input(\"Please enter length of third side of triangle: \"))\n",
    "    triangle(side1,side2,side3)\n",
    "    exit=int(input(\"Do you want to quit? (1 is yes, 0 is no) \"))\n"
   ]
  },
  {
   "cell_type": "code",
   "execution_count": 22,
   "id": "7fb02ab4",
   "metadata": {},
   "outputs": [
    {
     "name": "stdout",
     "output_type": "stream",
     "text": [
      "Guess a number between 1 to 1000: 500\n",
      "Too high! Guess again\n",
      "Guess a number between 1 to 1000: 400\n",
      "Too high! Guess again\n",
      "Guess a number between 1 to 1000: 300\n",
      "Too high! Guess again\n",
      "Guess a number between 1 to 1000: 200\n",
      "Too low! Guess again\n",
      "Guess a number between 1 to 1000: 250\n",
      "Too low! Guess again\n",
      "Guess a number between 1 to 1000: 260\n",
      "Too low! Guess again\n",
      "Guess a number between 1 to 1000: 270\n",
      "Too low! Guess again\n",
      "Guess a number between 1 to 1000: 280\n",
      "Too low! Guess again\n",
      "Guess a number between 1 to 1000: 290\n",
      "Too low! Guess again\n",
      "Guess a number between 1 to 1000: 295\n",
      "Too low! Guess again\n",
      "Guess a number between 1 to 1000: 297\n",
      "Too low! Guess again\n",
      "Guess a number between 1 to 1000: 298\n",
      "Too low! Guess again\n",
      "Guess a number between 1 to 1000: 299\n",
      "You have guessed the number correctly after 13 attempts.\n"
     ]
    }
   ],
   "source": [
    "import random\n",
    "random_number=random.randint(1,1000)\n",
    "entered_number = None\n",
    "attempt=0\n",
    "\n",
    "while entered_number!=random_number:\n",
    "    attempt+=1    \n",
    "    entered_number=int(input(\"Guess a number between 1 to 1000: \"))\n",
    "    if entered_number==random_number:\n",
    "        print(f\"You have guessed the number correctly after {attempt} attempts.\")\n",
    "    elif entered_number<random_number:\n",
    "        print(\"Too low! Guess again\")\n",
    "    else:\n",
    "        print(\"Too high! Guess again\")"
   ]
  },
  {
   "cell_type": "code",
   "execution_count": 49,
   "id": "1cf64a42",
   "metadata": {},
   "outputs": [
    {
     "name": "stdout",
     "output_type": "stream",
     "text": [
      "Enter a temperature of most recent previous date including today that have not been entered before: 1\n",
      "Do you want to quit? (1 is yes, 0 is no) 0\n",
      "Enter a temperature of most recent previous date including today that have not been entered before: 2\n",
      "Do you want to quit? (1 is yes, 0 is no) 1\n",
      "the mean temperature of the previous 2 days is 1.5 degrees Fahrenheit.\n"
     ]
    }
   ],
   "source": [
    "templist=[]\n",
    "sumoftemp=0\n",
    "exit2=0\n",
    "while exit2!=1:\n",
    "    temp=float(input(\"Enter a temperature of most recent previous date including today that have not been entered before: \"))\n",
    "    templist.append(temp)\n",
    "    sumoftemp=sumoftemp+temp\n",
    "    exit2=int(input(\"Do you want to quit? (1 is yes, 0 is no) \"))\n",
    "print(f\"the mean temperature of the previous {len(templist)} days is {sumoftemp/len(templist)} degrees Fahrenheit.\")"
   ]
  }
 ],
 "metadata": {
  "kernelspec": {
   "display_name": "Python 3 (ipykernel)",
   "language": "python",
   "name": "python3"
  },
  "language_info": {
   "codemirror_mode": {
    "name": "ipython",
    "version": 3
   },
   "file_extension": ".py",
   "mimetype": "text/x-python",
   "name": "python",
   "nbconvert_exporter": "python",
   "pygments_lexer": "ipython3",
   "version": "3.9.13"
  }
 },
 "nbformat": 4,
 "nbformat_minor": 5
}
